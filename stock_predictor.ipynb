{
  "cells": [
    {
      "cell_type": "markdown",
      "metadata": {
        "id": "YVZ3qFzxONiA"
      },
      "source": [
        "Use yfinance to scrape historical stock prices"
      ]
    },
    {
      "cell_type": "code",
      "execution_count": 1,
      "metadata": {
        "id": "FO3Su9SspWy6"
      },
      "outputs": [],
      "source": [
        "import yfinance as yf"
      ]
    },
    {
      "cell_type": "code",
      "execution_count": 110,
      "metadata": {
        "id": "o1NVsL2Zpfm1"
      },
      "outputs": [],
      "source": [
        "#function to get stock data from ticker\n",
        "def get_stock_data(ticker, start_date, end_date):\n",
        "    stock = yf.download(ticker, start=start_date, end=end_date)\n",
        "    return stock"
      ]
    },
    {
      "cell_type": "code",
      "execution_count": 111,
      "metadata": {
        "colab": {
          "base_uri": "https://localhost:8080/"
        },
        "id": "mTBpdjFApjSw",
        "outputId": "ef10ee85-54a8-4b68-cfa1-9d68668cecb3"
      },
      "outputs": [
        {
          "output_type": "stream",
          "name": "stderr",
          "text": [
            "\r[*********************100%%**********************]  1 of 1 completed"
          ]
        },
        {
          "output_type": "stream",
          "name": "stdout",
          "text": [
            "                 Open       High        Low      Close  Adj Close     Volume\n",
            "Date                                                                        \n",
            "2019-01-02  38.722500  39.712502  38.557499  39.480000  37.793762  148158800\n",
            "2019-01-03  35.994999  36.430000  35.500000  35.547501  34.029240  365248800\n",
            "2019-01-04  36.132500  37.137501  35.950001  37.064999  35.481926  234428400\n",
            "2019-01-07  37.174999  37.207500  36.474998  36.982498  35.402954  219111200\n",
            "2019-01-08  37.389999  37.955002  37.130001  37.687500  36.077843  164101200\n"
          ]
        },
        {
          "output_type": "stream",
          "name": "stderr",
          "text": [
            "\n"
          ]
        }
      ],
      "source": [
        "ticker = 'AAPL'\n",
        "start_date = '2019-01-01'\n",
        "end_date = '2021-01-01'\n",
        "apple_stock = get_stock_data(ticker, start_date, end_date)\n",
        "print(apple_stock.head())\n"
      ]
    },
    {
      "cell_type": "markdown",
      "metadata": {
        "id": "sOieEYyOOjWD"
      },
      "source": [
        "Use BeautifulSoup to scrape financial news"
      ]
    },
    {
      "cell_type": "code",
      "execution_count": 48,
      "metadata": {
        "id": "O_R3upDWOJQL"
      },
      "outputs": [],
      "source": [
        "import requests\n",
        "from bs4 import BeautifulSoup"
      ]
    },
    {
      "cell_type": "code",
      "execution_count": 6,
      "metadata": {
        "colab": {
          "base_uri": "https://localhost:8080/"
        },
        "id": "C-gVITg3SoNk",
        "outputId": "5f6d4716-5844-4303-f76e-22a485222fd0"
      },
      "outputs": [
        {
          "output_type": "stream",
          "name": "stdout",
          "text": [
            "Collecting newsapi-python\n",
            "  Downloading newsapi_python-0.2.7-py2.py3-none-any.whl.metadata (1.2 kB)\n",
            "Requirement already satisfied: requests<3.0.0 in /usr/local/lib/python3.10/dist-packages (from newsapi-python) (2.31.0)\n",
            "Requirement already satisfied: charset-normalizer<4,>=2 in /usr/local/lib/python3.10/dist-packages (from requests<3.0.0->newsapi-python) (3.3.2)\n",
            "Requirement already satisfied: idna<4,>=2.5 in /usr/local/lib/python3.10/dist-packages (from requests<3.0.0->newsapi-python) (3.7)\n",
            "Requirement already satisfied: urllib3<3,>=1.21.1 in /usr/local/lib/python3.10/dist-packages (from requests<3.0.0->newsapi-python) (2.0.7)\n",
            "Requirement already satisfied: certifi>=2017.4.17 in /usr/local/lib/python3.10/dist-packages (from requests<3.0.0->newsapi-python) (2024.7.4)\n",
            "Downloading newsapi_python-0.2.7-py2.py3-none-any.whl (7.9 kB)\n",
            "Installing collected packages: newsapi-python\n",
            "Successfully installed newsapi-python-0.2.7\n"
          ]
        }
      ],
      "source": [
        "!pip install newsapi-python"
      ]
    },
    {
      "cell_type": "code",
      "execution_count": 116,
      "metadata": {
        "id": "9pPjyTkqR2Us"
      },
      "outputs": [],
      "source": [
        "\n",
        "from newsapi import NewsApiClient\n",
        "\n",
        "# Function to get news headlines from a ticker\n",
        "\n",
        "def get_news_api(query):\n",
        "    newsapi = NewsApiClient(api_key='d56fd1ebcacb4e089c9f73c50f3bb9da')\n",
        "    all_articles = newsapi.get_everything(q=query, language='en', sort_by='relevancy', page_size=100)\n",
        "    headlines = [article['title'] for article in all_articles['articles']]\n",
        "    return headlines"
      ]
    },
    {
      "cell_type": "code",
      "execution_count": 118,
      "metadata": {
        "colab": {
          "base_uri": "https://localhost:8080/"
        },
        "id": "uOKevm8NScNf",
        "outputId": "4a44b0a5-cb73-40e6-c3c8-4df424695932"
      },
      "outputs": [
        {
          "output_type": "stream",
          "name": "stdout",
          "text": [
            "Number of news headlines fetched: 100\n"
          ]
        }
      ],
      "source": [
        "news_headlines = get_news_api('Apple Inc')\n",
        "print(f\"Number of news headlines fetched: {len(news_headlines)}\")"
      ]
    },
    {
      "cell_type": "code",
      "source": [
        "num_stock_prices = len(apple_stock)\n",
        "num_news_articles = len(news_headlines)\n",
        "print(f'Number of stock prices: {num_stock_prices}')\n",
        "print(f'Number of news articles: {num_news_articles}')"
      ],
      "metadata": {
        "colab": {
          "base_uri": "https://localhost:8080/"
        },
        "id": "tbsSc0s98WHC",
        "outputId": "79cc763f-69da-4f28-af35-77598b21952a"
      },
      "execution_count": 119,
      "outputs": [
        {
          "output_type": "stream",
          "name": "stdout",
          "text": [
            "Number of stock prices: 505\n",
            "Number of news articles: 100\n"
          ]
        }
      ]
    },
    {
      "cell_type": "code",
      "execution_count": 52,
      "metadata": {
        "colab": {
          "base_uri": "https://localhost:8080/"
        },
        "id": "tgMaVShHTSHE",
        "outputId": "93ec2792-e7e7-434b-d6cf-f993e0959d0d"
      },
      "outputs": [
        {
          "output_type": "stream",
          "name": "stderr",
          "text": [
            "[nltk_data] Downloading package punkt to /root/nltk_data...\n",
            "[nltk_data]   Package punkt is already up-to-date!\n",
            "[nltk_data] Downloading package stopwords to /root/nltk_data...\n",
            "[nltk_data]   Package stopwords is already up-to-date!\n",
            "[nltk_data] Downloading package vader_lexicon to /root/nltk_data...\n",
            "[nltk_data]   Package vader_lexicon is already up-to-date!\n"
          ]
        },
        {
          "output_type": "stream",
          "name": "stdout",
          "text": [
            "Collecting en-core-web-sm==3.7.1\n",
            "  Downloading https://github.com/explosion/spacy-models/releases/download/en_core_web_sm-3.7.1/en_core_web_sm-3.7.1-py3-none-any.whl (12.8 MB)\n",
            "\u001b[2K     \u001b[90m━━━━━━━━━━━━━━━━━━━━━━━━━━━━━━━━━━━━━━━━\u001b[0m \u001b[32m12.8/12.8 MB\u001b[0m \u001b[31m19.2 MB/s\u001b[0m eta \u001b[36m0:00:00\u001b[0m\n",
            "\u001b[?25hRequirement already satisfied: spacy<3.8.0,>=3.7.2 in /usr/local/lib/python3.10/dist-packages (from en-core-web-sm==3.7.1) (3.7.5)\n",
            "Requirement already satisfied: spacy-legacy<3.1.0,>=3.0.11 in /usr/local/lib/python3.10/dist-packages (from spacy<3.8.0,>=3.7.2->en-core-web-sm==3.7.1) (3.0.12)\n",
            "Requirement already satisfied: spacy-loggers<2.0.0,>=1.0.0 in /usr/local/lib/python3.10/dist-packages (from spacy<3.8.0,>=3.7.2->en-core-web-sm==3.7.1) (1.0.5)\n",
            "Requirement already satisfied: murmurhash<1.1.0,>=0.28.0 in /usr/local/lib/python3.10/dist-packages (from spacy<3.8.0,>=3.7.2->en-core-web-sm==3.7.1) (1.0.10)\n",
            "Requirement already satisfied: cymem<2.1.0,>=2.0.2 in /usr/local/lib/python3.10/dist-packages (from spacy<3.8.0,>=3.7.2->en-core-web-sm==3.7.1) (2.0.8)\n",
            "Requirement already satisfied: preshed<3.1.0,>=3.0.2 in /usr/local/lib/python3.10/dist-packages (from spacy<3.8.0,>=3.7.2->en-core-web-sm==3.7.1) (3.0.9)\n",
            "Requirement already satisfied: thinc<8.3.0,>=8.2.2 in /usr/local/lib/python3.10/dist-packages (from spacy<3.8.0,>=3.7.2->en-core-web-sm==3.7.1) (8.2.5)\n",
            "Requirement already satisfied: wasabi<1.2.0,>=0.9.1 in /usr/local/lib/python3.10/dist-packages (from spacy<3.8.0,>=3.7.2->en-core-web-sm==3.7.1) (1.1.3)\n",
            "Requirement already satisfied: srsly<3.0.0,>=2.4.3 in /usr/local/lib/python3.10/dist-packages (from spacy<3.8.0,>=3.7.2->en-core-web-sm==3.7.1) (2.4.8)\n",
            "Requirement already satisfied: catalogue<2.1.0,>=2.0.6 in /usr/local/lib/python3.10/dist-packages (from spacy<3.8.0,>=3.7.2->en-core-web-sm==3.7.1) (2.0.10)\n",
            "Requirement already satisfied: weasel<0.5.0,>=0.1.0 in /usr/local/lib/python3.10/dist-packages (from spacy<3.8.0,>=3.7.2->en-core-web-sm==3.7.1) (0.4.1)\n",
            "Requirement already satisfied: typer<1.0.0,>=0.3.0 in /usr/local/lib/python3.10/dist-packages (from spacy<3.8.0,>=3.7.2->en-core-web-sm==3.7.1) (0.12.3)\n",
            "Requirement already satisfied: tqdm<5.0.0,>=4.38.0 in /usr/local/lib/python3.10/dist-packages (from spacy<3.8.0,>=3.7.2->en-core-web-sm==3.7.1) (4.66.4)\n",
            "Requirement already satisfied: requests<3.0.0,>=2.13.0 in /usr/local/lib/python3.10/dist-packages (from spacy<3.8.0,>=3.7.2->en-core-web-sm==3.7.1) (2.31.0)\n",
            "Requirement already satisfied: pydantic!=1.8,!=1.8.1,<3.0.0,>=1.7.4 in /usr/local/lib/python3.10/dist-packages (from spacy<3.8.0,>=3.7.2->en-core-web-sm==3.7.1) (2.8.2)\n",
            "Requirement already satisfied: jinja2 in /usr/local/lib/python3.10/dist-packages (from spacy<3.8.0,>=3.7.2->en-core-web-sm==3.7.1) (3.1.4)\n",
            "Requirement already satisfied: setuptools in /usr/local/lib/python3.10/dist-packages (from spacy<3.8.0,>=3.7.2->en-core-web-sm==3.7.1) (71.0.4)\n",
            "Requirement already satisfied: packaging>=20.0 in /usr/local/lib/python3.10/dist-packages (from spacy<3.8.0,>=3.7.2->en-core-web-sm==3.7.1) (24.1)\n",
            "Requirement already satisfied: langcodes<4.0.0,>=3.2.0 in /usr/local/lib/python3.10/dist-packages (from spacy<3.8.0,>=3.7.2->en-core-web-sm==3.7.1) (3.4.0)\n",
            "Requirement already satisfied: numpy>=1.19.0 in /usr/local/lib/python3.10/dist-packages (from spacy<3.8.0,>=3.7.2->en-core-web-sm==3.7.1) (1.26.4)\n",
            "Requirement already satisfied: language-data>=1.2 in /usr/local/lib/python3.10/dist-packages (from langcodes<4.0.0,>=3.2.0->spacy<3.8.0,>=3.7.2->en-core-web-sm==3.7.1) (1.2.0)\n",
            "Requirement already satisfied: annotated-types>=0.4.0 in /usr/local/lib/python3.10/dist-packages (from pydantic!=1.8,!=1.8.1,<3.0.0,>=1.7.4->spacy<3.8.0,>=3.7.2->en-core-web-sm==3.7.1) (0.7.0)\n",
            "Requirement already satisfied: pydantic-core==2.20.1 in /usr/local/lib/python3.10/dist-packages (from pydantic!=1.8,!=1.8.1,<3.0.0,>=1.7.4->spacy<3.8.0,>=3.7.2->en-core-web-sm==3.7.1) (2.20.1)\n",
            "Requirement already satisfied: typing-extensions>=4.6.1 in /usr/local/lib/python3.10/dist-packages (from pydantic!=1.8,!=1.8.1,<3.0.0,>=1.7.4->spacy<3.8.0,>=3.7.2->en-core-web-sm==3.7.1) (4.12.2)\n",
            "Requirement already satisfied: charset-normalizer<4,>=2 in /usr/local/lib/python3.10/dist-packages (from requests<3.0.0,>=2.13.0->spacy<3.8.0,>=3.7.2->en-core-web-sm==3.7.1) (3.3.2)\n",
            "Requirement already satisfied: idna<4,>=2.5 in /usr/local/lib/python3.10/dist-packages (from requests<3.0.0,>=2.13.0->spacy<3.8.0,>=3.7.2->en-core-web-sm==3.7.1) (3.7)\n",
            "Requirement already satisfied: urllib3<3,>=1.21.1 in /usr/local/lib/python3.10/dist-packages (from requests<3.0.0,>=2.13.0->spacy<3.8.0,>=3.7.2->en-core-web-sm==3.7.1) (2.0.7)\n",
            "Requirement already satisfied: certifi>=2017.4.17 in /usr/local/lib/python3.10/dist-packages (from requests<3.0.0,>=2.13.0->spacy<3.8.0,>=3.7.2->en-core-web-sm==3.7.1) (2024.7.4)\n",
            "Requirement already satisfied: blis<0.8.0,>=0.7.8 in /usr/local/lib/python3.10/dist-packages (from thinc<8.3.0,>=8.2.2->spacy<3.8.0,>=3.7.2->en-core-web-sm==3.7.1) (0.7.11)\n",
            "Requirement already satisfied: confection<1.0.0,>=0.0.1 in /usr/local/lib/python3.10/dist-packages (from thinc<8.3.0,>=8.2.2->spacy<3.8.0,>=3.7.2->en-core-web-sm==3.7.1) (0.1.5)\n",
            "Requirement already satisfied: click>=8.0.0 in /usr/local/lib/python3.10/dist-packages (from typer<1.0.0,>=0.3.0->spacy<3.8.0,>=3.7.2->en-core-web-sm==3.7.1) (8.1.7)\n",
            "Requirement already satisfied: shellingham>=1.3.0 in /usr/local/lib/python3.10/dist-packages (from typer<1.0.0,>=0.3.0->spacy<3.8.0,>=3.7.2->en-core-web-sm==3.7.1) (1.5.4)\n",
            "Requirement already satisfied: rich>=10.11.0 in /usr/local/lib/python3.10/dist-packages (from typer<1.0.0,>=0.3.0->spacy<3.8.0,>=3.7.2->en-core-web-sm==3.7.1) (13.7.1)\n",
            "Requirement already satisfied: cloudpathlib<1.0.0,>=0.7.0 in /usr/local/lib/python3.10/dist-packages (from weasel<0.5.0,>=0.1.0->spacy<3.8.0,>=3.7.2->en-core-web-sm==3.7.1) (0.18.1)\n",
            "Requirement already satisfied: smart-open<8.0.0,>=5.2.1 in /usr/local/lib/python3.10/dist-packages (from weasel<0.5.0,>=0.1.0->spacy<3.8.0,>=3.7.2->en-core-web-sm==3.7.1) (7.0.4)\n",
            "Requirement already satisfied: MarkupSafe>=2.0 in /usr/local/lib/python3.10/dist-packages (from jinja2->spacy<3.8.0,>=3.7.2->en-core-web-sm==3.7.1) (2.1.5)\n",
            "Requirement already satisfied: marisa-trie>=0.7.7 in /usr/local/lib/python3.10/dist-packages (from language-data>=1.2->langcodes<4.0.0,>=3.2.0->spacy<3.8.0,>=3.7.2->en-core-web-sm==3.7.1) (1.2.0)\n",
            "Requirement already satisfied: markdown-it-py>=2.2.0 in /usr/local/lib/python3.10/dist-packages (from rich>=10.11.0->typer<1.0.0,>=0.3.0->spacy<3.8.0,>=3.7.2->en-core-web-sm==3.7.1) (3.0.0)\n",
            "Requirement already satisfied: pygments<3.0.0,>=2.13.0 in /usr/local/lib/python3.10/dist-packages (from rich>=10.11.0->typer<1.0.0,>=0.3.0->spacy<3.8.0,>=3.7.2->en-core-web-sm==3.7.1) (2.16.1)\n",
            "Requirement already satisfied: wrapt in /usr/local/lib/python3.10/dist-packages (from smart-open<8.0.0,>=5.2.1->weasel<0.5.0,>=0.1.0->spacy<3.8.0,>=3.7.2->en-core-web-sm==3.7.1) (1.16.0)\n",
            "Requirement already satisfied: mdurl~=0.1 in /usr/local/lib/python3.10/dist-packages (from markdown-it-py>=2.2.0->rich>=10.11.0->typer<1.0.0,>=0.3.0->spacy<3.8.0,>=3.7.2->en-core-web-sm==3.7.1) (0.1.2)\n",
            "\u001b[38;5;2m✔ Download and installation successful\u001b[0m\n",
            "You can now load the package via spacy.load('en_core_web_sm')\n",
            "\u001b[38;5;3m⚠ Restart to reload dependencies\u001b[0m\n",
            "If you are in a Jupyter or Colab notebook, you may need to restart Python in\n",
            "order to load all the package's dependencies. You can do this by selecting the\n",
            "'Restart kernel' or 'Restart runtime' option.\n"
          ]
        }
      ],
      "source": [
        "import nltk\n",
        "nltk.download('punkt')\n",
        "nltk.download('stopwords')\n",
        "nltk.download('vader_lexicon')\n",
        "!python -m spacy download en_core_web_sm"
      ]
    },
    {
      "cell_type": "code",
      "execution_count": 120,
      "metadata": {
        "id": "bth0TPMATne1"
      },
      "outputs": [],
      "source": [
        "from nltk.corpus import stopwords\n",
        "from nltk.tokenize import word_tokenize\n",
        "import string\n",
        "stop_words = set(stopwords.words('english'))"
      ]
    },
    {
      "cell_type": "code",
      "execution_count": 121,
      "metadata": {
        "id": "2q6lX4xepygt"
      },
      "outputs": [],
      "source": [
        "#function to clean and process news data\n",
        "def preprocess_text(text):\n",
        "    text = text.lower()\n",
        "    text = text.translate(str.maketrans('', '', string.punctuation))\n",
        "    words = word_tokenize(text)\n",
        "    filtered_words = [word for word in words if word not in stop_words]\n",
        "    return ' '.join(filtered_words)\n"
      ]
    },
    {
      "cell_type": "code",
      "execution_count": 122,
      "metadata": {
        "colab": {
          "base_uri": "https://localhost:8080/"
        },
        "id": "PFhrwz_yUHeO",
        "outputId": "bcdb105f-11e9-4b5f-b7d7-13cb2a64131c"
      },
      "outputs": [
        {
          "output_type": "execute_result",
          "data": {
            "text/plain": [
              "['get job apple according tech career experts',\n",
              " 'rumored ‘ google tv streamer ’ might fall short competing apple tv',\n",
              " 'samsung galaxy watch ultra review want watch ’ always face',\n",
              " 'apple director backs swift replace c choice programming language',\n",
              " 'ceos like bernard arnault tim cook decorate offices',\n",
              " 'ask wwdc',\n",
              " 'apple research lab opening focusing boosting quality reliability',\n",
              " 'apple defends business practices motion dismiss doj lawsuit',\n",
              " 'report apple tv license films studios bolstering catalog originals',\n",
              " 'report apple prepping 90 million iphone 16 units 2024 alone',\n",
              " 'elon musk claims training “ world ’ powerful ai every metric ”',\n",
              " 'report iphone 16 pro production coming india apple reduces china dependence',\n",
              " 'child attacked alligator bayou st john',\n",
              " 'ad agency zombifies tuaw ai copy recycled bylines stupid seo play',\n",
              " 'apple micron leaders visit china us ramps chip curbs',\n",
              " 'apple arcade guide everything available ’ new',\n",
              " 'apple sees biggest gains quarterly personal computer shipments jump',\n",
              " 'apple arcade guide everything available ’ new',\n",
              " 'university louisiana ‘ attractive ’ alumni',\n",
              " 'former openai safety employee said quit companys leaders building titanic wanted newer shinier things sell',\n",
              " '9 fast food recalls always haunt mcdonalds',\n",
              " 'ipad save apple',\n",
              " 'music industry puts pressure ‘ parasitic ’ streaming app musi',\n",
              " 'whatsapp gaining ground us 100 million monthly users',\n",
              " 'university new orleans prepares implement budget cuts size staff',\n",
              " 'business owners new orleans ’ milan neighborhood react 183block roadwork project',\n",
              " 'youtube 455 billion media giant hiding plain sight',\n",
              " 'amazon prime day deals almost take advantage',\n",
              " '‘ omnivore ’ aims reinvent food tv',\n",
              " 'zuckerberg aims rival openai google new llama ai model',\n",
              " 'apple top pick morgan stanley ai seen driving iphone ipad upgrades',\n",
              " 'earn 500 month apple stock ahead q3 earnings',\n",
              " 'tsmc stock hits nt1000 apiece aipowered rally prevails',\n",
              " 'linux 611 efi fake booting apple macos fix dualgpu macs',\n",
              " 'tsmc hikes revenue outlook reflect heated ai demand',\n",
              " 'musk ’ x risks fine eu steps crackdown big tech',\n",
              " 'apple tv plans bulk hollywood films',\n",
              " 'apples multiyear iphone upgrade cycle ai features drive upside analysts say',\n",
              " 'far right surging world',\n",
              " 'apple amazon results crucial nasdaq 100 ’ next leg',\n",
              " 'jim cramer thinks apple inc nasdaqaapl run ‘ much ’',\n",
              " 'apple inc nasdaqaapl aswath damodaran ’ best ai stock pick',\n",
              " 'john oliver fans believe warner bros discovery deliberately sabotaging ‘ last week tonight ’',\n",
              " 'asian stocks echo us rally ahead inflation data markets wrap',\n",
              " 'eu goes far',\n",
              " 'apple seeks scrub ‘ dominance ’ china antitrust app ruling',\n",
              " 'even staunch fans calling apples lessthantransparent ai training data harvesting',\n",
              " 'laurene powell jobs sets record 70 million mansion buy billionaires row',\n",
              " 'foxconn invest 551 million two projects north vietnam',\n",
              " 'apple inc nasdaqaapl best trump trade according jim cramer',\n",
              " 'apple signs voluntary us scheme manage ai risks white house says',\n",
              " '56 ownership apple inc nasdaqaapl boasts strong institutional backing',\n",
              " 'new cyberattack targeting iphone apple ids',\n",
              " 'samsung ’ new galaxy phone promotion ’ ignored',\n",
              " 'affirms growth boosted apple amazon partnerships lower interest rates analyst',\n",
              " 'apple inc nasdaqaapl best ai stock long term',\n",
              " 'upgraded airpods pro 2 prime day deal essential regardless phone choice',\n",
              " 'doctors recommending apple watches manage health conditions',\n",
              " 'best electric suvs large vehicles plug',\n",
              " '2 outperforming big tech stocks buy quarter',\n",
              " 'valero dr horton casualty list',\n",
              " 'apple inc nasdaqaapl undervalued ai stock buy',\n",
              " 'apple reaches firstever union deal workers maryland store',\n",
              " 'idc traditional pc market grew 3 second quarter',\n",
              " 'every young lawyer read book',\n",
              " 'rob reiner ron howard fisher stevens morgan neville andrew jarecki among big names square emmy documentary categories',\n",
              " 'taiwan unveils 100b economic reform plan trump said pay us defense fuel nvidia tsmc apple iphone assemblers ai plans',\n",
              " 'amazon prime day 2024 201 best deals remaining day 2 among thousands weve reviewed',\n",
              " 'silicon valley donor class divided harris support grows tech stronghold',\n",
              " 'diamondback energy miller industries show value momentum',\n",
              " 'rumor apple plotting sound united buyout masimo',\n",
              " 'powell testimony tesla drive market gains',\n",
              " 'apple shares hit new alltime closing high',\n",
              " 'big tech fails convince wall street ai paying',\n",
              " 'famous wall street analyst apple inc aapl best ai stock second half 2024',\n",
              " 'apple predicts boost ai features uneven third quarter',\n",
              " 'apples vision pro wont cross 500000 sales year idc says',\n",
              " 'smartphone market grows 6 ai discounts help demand',\n",
              " 'apple reportedly found abusing market position india',\n",
              " 'apples iphone drops china top five local rivals soar',\n",
              " 'disneyland take apple pay',\n",
              " 'apples taiwanese chip supplier ase tech clocks modest q2 growth revenues',\n",
              " 'news thousands dollars grants grabs',\n",
              " 'apple ’ vision pro ’ cross 500000 sales year idc says',\n",
              " 'apple poised get openai board observer role part ai pact',\n",
              " 'heyday television alan yang bekah brunstetter adapting carolyn huynh ’ novel ‘ fortunes jaded women ’ tv series',\n",
              " 'apple logs recordbreaking revenue india boosted mac sales',\n",
              " 'worldwide tech outages impacting airlines businesses running microsoft software',\n",
              " 'dictator playbook',\n",
              " 'phil schiller join openai ’ board observer',\n",
              " 'tony blair wants us stop worrying embrace ai',\n",
              " 'qualcomm gives bullish forecast phone demand perks',\n",
              " 'salesforce inc crm billionaire phillipe laffont bullish stock right',\n",
              " 'advanced micro devices inc amd one phillipe laffont ’ stock picks',\n",
              " 'apple shares hit new alltime intraday closing highs',\n",
              " 'apple shares hit new alltime intraday closing highs',\n",
              " 'apple shares hit new alltime intraday closing highs',\n",
              " 'apple shares hit new alltime intraday closing highs',\n",
              " 'apple shares hit new alltime intraday closing highs',\n",
              " 'apples ai features rollout miss upcoming iphone software overhaul']"
            ]
          },
          "metadata": {},
          "execution_count": 122
        }
      ],
      "source": [
        "cleaned_news = [preprocess_text(headline) for headline in news_headlines]\n",
        "cleaned_news"
      ]
    },
    {
      "cell_type": "code",
      "execution_count": 124,
      "metadata": {
        "id": "yd6Vs1obp7HM"
      },
      "outputs": [],
      "source": [
        "from nltk.sentiment.vader import SentimentIntensityAnalyzer\n",
        "\n",
        "# Use NLTK's VADER to analyze the sentiment of the news articles:\n",
        "\n",
        "robot = SentimentIntensityAnalyzer()\n",
        "\n",
        "def get_sentiment_scores(text):\n",
        "    return robot.polarity_scores(text)\n"
      ]
    },
    {
      "cell_type": "code",
      "execution_count": 125,
      "metadata": {
        "colab": {
          "base_uri": "https://localhost:8080/"
        },
        "id": "JgFzUeg2Wahz",
        "outputId": "cb360801-9bff-438d-db51-6cd4b0ef510e"
      },
      "outputs": [
        {
          "output_type": "execute_result",
          "data": {
            "text/plain": [
              "[{'neg': 0.0, 'neu': 1.0, 'pos': 0.0, 'compound': 0.0},\n",
              " {'neg': 0.0, 'neu': 1.0, 'pos': 0.0, 'compound': 0.0},\n",
              " {'neg': 0.0, 'neu': 0.86, 'pos': 0.14, 'compound': 0.0772},\n",
              " {'neg': 0.133, 'neu': 0.667, 'pos': 0.2, 'compound': 0.1531},\n",
              " {'neg': 0.0, 'neu': 0.737, 'pos': 0.263, 'compound': 0.3612},\n",
              " {'neg': 0.0, 'neu': 1.0, 'pos': 0.0, 'compound': 0.0},\n",
              " {'neg': 0.0, 'neu': 0.745, 'pos': 0.255, 'compound': 0.34},\n",
              " {'neg': 0.213, 'neu': 0.787, 'pos': 0.0, 'compound': -0.2263},\n",
              " {'neg': 0.0, 'neu': 1.0, 'pos': 0.0, 'compound': 0.0},\n",
              " {'neg': 0.182, 'neu': 0.818, 'pos': 0.0, 'compound': -0.25},\n",
              " {'neg': 0.0, 'neu': 0.741, 'pos': 0.259, 'compound': 0.4215},\n",
              " {'neg': 0.0, 'neu': 1.0, 'pos': 0.0, 'compound': 0.0},\n",
              " {'neg': 0.375, 'neu': 0.625, 'pos': 0.0, 'compound': -0.4588},\n",
              " {'neg': 0.23, 'neu': 0.608, 'pos': 0.162, 'compound': -0.25},\n",
              " {'neg': 0.0, 'neu': 1.0, 'pos': 0.0, 'compound': 0.0},\n",
              " {'neg': 0.0, 'neu': 1.0, 'pos': 0.0, 'compound': 0.0},\n",
              " {'neg': 0.0, 'neu': 0.769, 'pos': 0.231, 'compound': 0.34},\n",
              " {'neg': 0.0, 'neu': 1.0, 'pos': 0.0, 'compound': 0.0},\n",
              " {'neg': 0.0, 'neu': 0.508, 'pos': 0.492, 'compound': 0.4404},\n",
              " {'neg': 0.0, 'neu': 0.833, 'pos': 0.167, 'compound': 0.4215},\n",
              " {'neg': 0.351, 'neu': 0.649, 'pos': 0.0, 'compound': -0.4019},\n",
              " {'neg': 0.0, 'neu': 0.385, 'pos': 0.615, 'compound': 0.4939},\n",
              " {'neg': 0.239, 'neu': 0.761, 'pos': 0.0, 'compound': -0.296},\n",
              " {'neg': 0.0, 'neu': 0.714, 'pos': 0.286, 'compound': 0.4215},\n",
              " {'neg': 0.216, 'neu': 0.784, 'pos': 0.0, 'compound': -0.296},\n",
              " {'neg': 0.0, 'neu': 1.0, 'pos': 0.0, 'compound': 0.0},\n",
              " {'neg': 0.239, 'neu': 0.761, 'pos': 0.0, 'compound': -0.296},\n",
              " {'neg': 0.0, 'neu': 0.594, 'pos': 0.406, 'compound': 0.3446},\n",
              " {'neg': 0.0, 'neu': 1.0, 'pos': 0.0, 'compound': 0.0},\n",
              " {'neg': 0.0, 'neu': 1.0, 'pos': 0.0, 'compound': 0.0},\n",
              " {'neg': 0.0, 'neu': 0.847, 'pos': 0.153, 'compound': 0.2023},\n",
              " {'neg': 0.0, 'neu': 1.0, 'pos': 0.0, 'compound': 0.0},\n",
              " {'neg': 0.0, 'neu': 1.0, 'pos': 0.0, 'compound': 0.0},\n",
              " {'neg': 0.256, 'neu': 0.744, 'pos': 0.0, 'compound': -0.4767},\n",
              " {'neg': 0.176, 'neu': 0.824, 'pos': 0.0, 'compound': -0.128},\n",
              " {'neg': 0.212, 'neu': 0.606, 'pos': 0.182, 'compound': -0.0772},\n",
              " {'neg': 0.0, 'neu': 1.0, 'pos': 0.0, 'compound': 0.0},\n",
              " {'neg': 0.0, 'neu': 1.0, 'pos': 0.0, 'compound': 0.0},\n",
              " {'neg': 0.0, 'neu': 1.0, 'pos': 0.0, 'compound': 0.0},\n",
              " {'neg': 0.0, 'neu': 0.805, 'pos': 0.195, 'compound': 0.1779},\n",
              " {'neg': 0.0, 'neu': 1.0, 'pos': 0.0, 'compound': 0.0},\n",
              " {'neg': 0.0, 'neu': 0.656, 'pos': 0.344, 'compound': 0.6369},\n",
              " {'neg': 0.0, 'neu': 1.0, 'pos': 0.0, 'compound': 0.0},\n",
              " {'neg': 0.0, 'neu': 1.0, 'pos': 0.0, 'compound': 0.0},\n",
              " {'neg': 0.0, 'neu': 1.0, 'pos': 0.0, 'compound': 0.0},\n",
              " {'neg': 0.0, 'neu': 0.795, 'pos': 0.205, 'compound': 0.2023},\n",
              " {'neg': 0.0, 'neu': 1.0, 'pos': 0.0, 'compound': 0.0},\n",
              " {'neg': 0.0, 'neu': 1.0, 'pos': 0.0, 'compound': 0.0},\n",
              " {'neg': 0.0, 'neu': 1.0, 'pos': 0.0, 'compound': 0.0},\n",
              " {'neg': 0.0, 'neu': 0.656, 'pos': 0.344, 'compound': 0.6369},\n",
              " {'neg': 0.174, 'neu': 0.826, 'pos': 0.0, 'compound': -0.2732},\n",
              " {'neg': 0.0, 'neu': 0.614, 'pos': 0.386, 'compound': 0.5267},\n",
              " {'neg': 0.0, 'neu': 1.0, 'pos': 0.0, 'compound': 0.0},\n",
              " {'neg': 0.315, 'neu': 0.685, 'pos': 0.0, 'compound': -0.3182},\n",
              " {'neg': 0.129, 'neu': 0.294, 'pos': 0.576, 'compound': 0.765},\n",
              " {'neg': 0.0, 'neu': 0.625, 'pos': 0.375, 'compound': 0.6369},\n",
              " {'neg': 0.0, 'neu': 1.0, 'pos': 0.0, 'compound': 0.0},\n",
              " {'neg': 0.0, 'neu': 1.0, 'pos': 0.0, 'compound': 0.0},\n",
              " {'neg': 0.0, 'neu': 0.543, 'pos': 0.457, 'compound': 0.6369},\n",
              " {'neg': 0.0, 'neu': 1.0, 'pos': 0.0, 'compound': 0.0},\n",
              " {'neg': 0.459, 'neu': 0.541, 'pos': 0.0, 'compound': -0.5267},\n",
              " {'neg': 0.0, 'neu': 1.0, 'pos': 0.0, 'compound': 0.0},\n",
              " {'neg': 0.0, 'neu': 0.854, 'pos': 0.146, 'compound': 0.0516},\n",
              " {'neg': 0.0, 'neu': 1.0, 'pos': 0.0, 'compound': 0.0},\n",
              " {'neg': 0.0, 'neu': 1.0, 'pos': 0.0, 'compound': 0.0},\n",
              " {'neg': 0.184, 'neu': 0.816, 'pos': 0.0, 'compound': -0.5574},\n",
              " {'neg': 0.07, 'neu': 0.854, 'pos': 0.075, 'compound': 0.0258},\n",
              " {'neg': 0.0, 'neu': 0.651, 'pos': 0.349, 'compound': 0.7096},\n",
              " {'neg': 0.0, 'neu': 0.656, 'pos': 0.344, 'compound': 0.4939},\n",
              " {'neg': 0.0, 'neu': 0.526, 'pos': 0.474, 'compound': 0.5423},\n",
              " {'neg': 0.0, 'neu': 0.682, 'pos': 0.318, 'compound': 0.4215},\n",
              " {'neg': 0.0, 'neu': 0.676, 'pos': 0.324, 'compound': 0.34},\n",
              " {'neg': 0.0, 'neu': 0.732, 'pos': 0.268, 'compound': 0.296},\n",
              " {'neg': 0.259, 'neu': 0.556, 'pos': 0.185, 'compound': -0.2023},\n",
              " {'neg': 0.0, 'neu': 0.741, 'pos': 0.259, 'compound': 0.6369},\n",
              " {'neg': 0.0, 'neu': 0.722, 'pos': 0.278, 'compound': 0.4019},\n",
              " {'neg': 0.0, 'neu': 0.818, 'pos': 0.182, 'compound': 0.25},\n",
              " {'neg': 0.163, 'neu': 0.543, 'pos': 0.293, 'compound': 0.296},\n",
              " {'neg': 0.333, 'neu': 0.667, 'pos': 0.0, 'compound': -0.4588},\n",
              " {'neg': 0.0, 'neu': 0.816, 'pos': 0.184, 'compound': 0.2023},\n",
              " {'neg': 0.318, 'neu': 0.682, 'pos': 0.0, 'compound': -0.1027},\n",
              " {'neg': 0.0, 'neu': 0.794, 'pos': 0.206, 'compound': 0.3818},\n",
              " {'neg': 0.0, 'neu': 0.678, 'pos': 0.322, 'compound': 0.2263},\n",
              " {'neg': 0.0, 'neu': 0.8, 'pos': 0.2, 'compound': 0.25},\n",
              " {'neg': 0.0, 'neu': 0.818, 'pos': 0.182, 'compound': 0.25},\n",
              " {'neg': 0.145, 'neu': 0.726, 'pos': 0.128, 'compound': -0.0772},\n",
              " {'neg': 0.0, 'neu': 0.737, 'pos': 0.263, 'compound': 0.3612},\n",
              " {'neg': 0.0, 'neu': 1.0, 'pos': 0.0, 'compound': 0.0},\n",
              " {'neg': 0.0, 'neu': 1.0, 'pos': 0.0, 'compound': 0.0},\n",
              " {'neg': 0.0, 'neu': 0.694, 'pos': 0.306, 'compound': 0.296},\n",
              " {'neg': 0.387, 'neu': 0.42, 'pos': 0.193, 'compound': -0.3182},\n",
              " {'neg': 0.2, 'neu': 0.8, 'pos': 0.0, 'compound': -0.128},\n",
              " {'neg': 0.0, 'neu': 1.0, 'pos': 0.0, 'compound': 0.0},\n",
              " {'neg': 0.0, 'neu': 0.818, 'pos': 0.182, 'compound': 0.25},\n",
              " {'neg': 0.0, 'neu': 0.761, 'pos': 0.239, 'compound': 0.296},\n",
              " {'neg': 0.0, 'neu': 0.761, 'pos': 0.239, 'compound': 0.296},\n",
              " {'neg': 0.0, 'neu': 0.761, 'pos': 0.239, 'compound': 0.296},\n",
              " {'neg': 0.0, 'neu': 0.761, 'pos': 0.239, 'compound': 0.296},\n",
              " {'neg': 0.0, 'neu': 0.761, 'pos': 0.239, 'compound': 0.296},\n",
              " {'neg': 0.167, 'neu': 0.833, 'pos': 0.0, 'compound': -0.1531}]"
            ]
          },
          "metadata": {},
          "execution_count": 125
        }
      ],
      "source": [
        "sentiment_scores = [get_sentiment_scores(news) for news in cleaned_news]\n",
        "sentiment_scores"
      ]
    },
    {
      "cell_type": "markdown",
      "metadata": {
        "id": "Ovt59XX3W2gF"
      },
      "source": [
        "Combine the sentiment scores with the stock data"
      ]
    },
    {
      "cell_type": "code",
      "execution_count": 126,
      "metadata": {
        "id": "y1JfzDPdW31S"
      },
      "outputs": [],
      "source": [
        "#also add SMA\n",
        "def add_technical_indicators(df):\n",
        "    df['SMA_20'] = df['Close'].rolling(window=20).mean()\n",
        "    df['SMA_50'] = df['Close'].rolling(window=50).mean()\n",
        "    df = df.dropna(subset=['SMA_20', 'SMA_50'])  # Drop rows with NaN values for SMA\n",
        "    return df\n",
        "\n",
        "import pandas as pd\n",
        "\n",
        "# Merging sentiment scores with stock data\n",
        "def merge_sentiment_with_stock_data(stock_data, sentiment_scores):\n",
        "    sentiment_scores = sentiment_scores[:len(stock_data)]\n",
        "    sentiment_df = pd.DataFrame(sentiment_scores)\n",
        "    sentiment_df['date'] = pd.to_datetime(stock_data.index[:len(sentiment_scores)])\n",
        "    merged_data = pd.merge(stock_data, sentiment_df, left_index=True, right_on='date')\n",
        "    merged_data = merged_data.drop(columns='date')\n",
        "    return merged_data"
      ]
    },
    {
      "cell_type": "code",
      "execution_count": 127,
      "metadata": {
        "colab": {
          "base_uri": "https://localhost:8080/",
          "height": 424
        },
        "id": "BmPx9ZzMXHU3",
        "outputId": "d631ca63-798c-42b2-a477-d78f3fa8e502"
      },
      "outputs": [
        {
          "output_type": "execute_result",
          "data": {
            "text/plain": [
              "         Open       High        Low      Close  Adj Close     Volume  \\\n",
              "0   45.974998  46.025002  45.639999  45.932499  44.159264   94318000   \n",
              "1   46.212502  46.832500  45.935001  46.529999  44.733704  156171600   \n",
              "2   46.450001  47.097500  46.447498  47.005001  45.190365  104879200   \n",
              "3   47.087502  47.247501  46.480000  46.632500  44.832241  126585600   \n",
              "4   46.557499  47.372501  46.182499  47.040001  45.224022  124140800   \n",
              "..        ...        ...        ...        ...        ...        ...   \n",
              "95  52.189999  52.540001  51.827499  52.195000  50.373245  135742800   \n",
              "96  54.105000  55.342499  52.825001  53.259998  51.401070  277125600   \n",
              "97  53.474998  54.507500  51.685001  52.107498  50.288792  216071600   \n",
              "98  51.382500  51.607498  50.407501  51.005001  49.224789  163448400   \n",
              "99  49.497501  49.662498  48.145000  48.334999  46.647972  209572000   \n",
              "\n",
              "       SMA_20    SMA_50    neg    neu    pos  compound  \n",
              "0   43.704000  41.35925  0.000  1.000  0.000    0.0000  \n",
              "1   43.895500  41.50025  0.000  1.000  0.000    0.0000  \n",
              "2   44.115500  41.72940  0.000  0.860  0.140    0.0772  \n",
              "3   44.310500  41.92075  0.133  0.667  0.200    0.1531  \n",
              "4   44.512125  42.12190  0.000  0.737  0.263    0.3612  \n",
              "..        ...       ...    ...    ...    ...       ...  \n",
              "95  51.252125  48.90590  0.000  0.761  0.239    0.2960  \n",
              "96  51.381000  49.05565  0.000  0.761  0.239    0.2960  \n",
              "97  51.431250  49.16480  0.000  0.761  0.239    0.2960  \n",
              "98  51.428625  49.27100  0.000  0.761  0.239    0.2960  \n",
              "99  51.345125  49.33940  0.167  0.833  0.000   -0.1531  \n",
              "\n",
              "[100 rows x 12 columns]"
            ],
            "text/html": [
              "\n",
              "  <div id=\"df-b08eb85b-af1e-486b-88a5-f20100787f09\" class=\"colab-df-container\">\n",
              "    <div>\n",
              "<style scoped>\n",
              "    .dataframe tbody tr th:only-of-type {\n",
              "        vertical-align: middle;\n",
              "    }\n",
              "\n",
              "    .dataframe tbody tr th {\n",
              "        vertical-align: top;\n",
              "    }\n",
              "\n",
              "    .dataframe thead th {\n",
              "        text-align: right;\n",
              "    }\n",
              "</style>\n",
              "<table border=\"1\" class=\"dataframe\">\n",
              "  <thead>\n",
              "    <tr style=\"text-align: right;\">\n",
              "      <th></th>\n",
              "      <th>Open</th>\n",
              "      <th>High</th>\n",
              "      <th>Low</th>\n",
              "      <th>Close</th>\n",
              "      <th>Adj Close</th>\n",
              "      <th>Volume</th>\n",
              "      <th>SMA_20</th>\n",
              "      <th>SMA_50</th>\n",
              "      <th>neg</th>\n",
              "      <th>neu</th>\n",
              "      <th>pos</th>\n",
              "      <th>compound</th>\n",
              "    </tr>\n",
              "  </thead>\n",
              "  <tbody>\n",
              "    <tr>\n",
              "      <th>0</th>\n",
              "      <td>45.974998</td>\n",
              "      <td>46.025002</td>\n",
              "      <td>45.639999</td>\n",
              "      <td>45.932499</td>\n",
              "      <td>44.159264</td>\n",
              "      <td>94318000</td>\n",
              "      <td>43.704000</td>\n",
              "      <td>41.35925</td>\n",
              "      <td>0.000</td>\n",
              "      <td>1.000</td>\n",
              "      <td>0.000</td>\n",
              "      <td>0.0000</td>\n",
              "    </tr>\n",
              "    <tr>\n",
              "      <th>1</th>\n",
              "      <td>46.212502</td>\n",
              "      <td>46.832500</td>\n",
              "      <td>45.935001</td>\n",
              "      <td>46.529999</td>\n",
              "      <td>44.733704</td>\n",
              "      <td>156171600</td>\n",
              "      <td>43.895500</td>\n",
              "      <td>41.50025</td>\n",
              "      <td>0.000</td>\n",
              "      <td>1.000</td>\n",
              "      <td>0.000</td>\n",
              "      <td>0.0000</td>\n",
              "    </tr>\n",
              "    <tr>\n",
              "      <th>2</th>\n",
              "      <td>46.450001</td>\n",
              "      <td>47.097500</td>\n",
              "      <td>46.447498</td>\n",
              "      <td>47.005001</td>\n",
              "      <td>45.190365</td>\n",
              "      <td>104879200</td>\n",
              "      <td>44.115500</td>\n",
              "      <td>41.72940</td>\n",
              "      <td>0.000</td>\n",
              "      <td>0.860</td>\n",
              "      <td>0.140</td>\n",
              "      <td>0.0772</td>\n",
              "    </tr>\n",
              "    <tr>\n",
              "      <th>3</th>\n",
              "      <td>47.087502</td>\n",
              "      <td>47.247501</td>\n",
              "      <td>46.480000</td>\n",
              "      <td>46.632500</td>\n",
              "      <td>44.832241</td>\n",
              "      <td>126585600</td>\n",
              "      <td>44.310500</td>\n",
              "      <td>41.92075</td>\n",
              "      <td>0.133</td>\n",
              "      <td>0.667</td>\n",
              "      <td>0.200</td>\n",
              "      <td>0.1531</td>\n",
              "    </tr>\n",
              "    <tr>\n",
              "      <th>4</th>\n",
              "      <td>46.557499</td>\n",
              "      <td>47.372501</td>\n",
              "      <td>46.182499</td>\n",
              "      <td>47.040001</td>\n",
              "      <td>45.224022</td>\n",
              "      <td>124140800</td>\n",
              "      <td>44.512125</td>\n",
              "      <td>42.12190</td>\n",
              "      <td>0.000</td>\n",
              "      <td>0.737</td>\n",
              "      <td>0.263</td>\n",
              "      <td>0.3612</td>\n",
              "    </tr>\n",
              "    <tr>\n",
              "      <th>...</th>\n",
              "      <td>...</td>\n",
              "      <td>...</td>\n",
              "      <td>...</td>\n",
              "      <td>...</td>\n",
              "      <td>...</td>\n",
              "      <td>...</td>\n",
              "      <td>...</td>\n",
              "      <td>...</td>\n",
              "      <td>...</td>\n",
              "      <td>...</td>\n",
              "      <td>...</td>\n",
              "      <td>...</td>\n",
              "    </tr>\n",
              "    <tr>\n",
              "      <th>95</th>\n",
              "      <td>52.189999</td>\n",
              "      <td>52.540001</td>\n",
              "      <td>51.827499</td>\n",
              "      <td>52.195000</td>\n",
              "      <td>50.373245</td>\n",
              "      <td>135742800</td>\n",
              "      <td>51.252125</td>\n",
              "      <td>48.90590</td>\n",
              "      <td>0.000</td>\n",
              "      <td>0.761</td>\n",
              "      <td>0.239</td>\n",
              "      <td>0.2960</td>\n",
              "    </tr>\n",
              "    <tr>\n",
              "      <th>96</th>\n",
              "      <td>54.105000</td>\n",
              "      <td>55.342499</td>\n",
              "      <td>52.825001</td>\n",
              "      <td>53.259998</td>\n",
              "      <td>51.401070</td>\n",
              "      <td>277125600</td>\n",
              "      <td>51.381000</td>\n",
              "      <td>49.05565</td>\n",
              "      <td>0.000</td>\n",
              "      <td>0.761</td>\n",
              "      <td>0.239</td>\n",
              "      <td>0.2960</td>\n",
              "    </tr>\n",
              "    <tr>\n",
              "      <th>97</th>\n",
              "      <td>53.474998</td>\n",
              "      <td>54.507500</td>\n",
              "      <td>51.685001</td>\n",
              "      <td>52.107498</td>\n",
              "      <td>50.288792</td>\n",
              "      <td>216071600</td>\n",
              "      <td>51.431250</td>\n",
              "      <td>49.16480</td>\n",
              "      <td>0.000</td>\n",
              "      <td>0.761</td>\n",
              "      <td>0.239</td>\n",
              "      <td>0.2960</td>\n",
              "    </tr>\n",
              "    <tr>\n",
              "      <th>98</th>\n",
              "      <td>51.382500</td>\n",
              "      <td>51.607498</td>\n",
              "      <td>50.407501</td>\n",
              "      <td>51.005001</td>\n",
              "      <td>49.224789</td>\n",
              "      <td>163448400</td>\n",
              "      <td>51.428625</td>\n",
              "      <td>49.27100</td>\n",
              "      <td>0.000</td>\n",
              "      <td>0.761</td>\n",
              "      <td>0.239</td>\n",
              "      <td>0.2960</td>\n",
              "    </tr>\n",
              "    <tr>\n",
              "      <th>99</th>\n",
              "      <td>49.497501</td>\n",
              "      <td>49.662498</td>\n",
              "      <td>48.145000</td>\n",
              "      <td>48.334999</td>\n",
              "      <td>46.647972</td>\n",
              "      <td>209572000</td>\n",
              "      <td>51.345125</td>\n",
              "      <td>49.33940</td>\n",
              "      <td>0.167</td>\n",
              "      <td>0.833</td>\n",
              "      <td>0.000</td>\n",
              "      <td>-0.1531</td>\n",
              "    </tr>\n",
              "  </tbody>\n",
              "</table>\n",
              "<p>100 rows × 12 columns</p>\n",
              "</div>\n",
              "    <div class=\"colab-df-buttons\">\n",
              "\n",
              "  <div class=\"colab-df-container\">\n",
              "    <button class=\"colab-df-convert\" onclick=\"convertToInteractive('df-b08eb85b-af1e-486b-88a5-f20100787f09')\"\n",
              "            title=\"Convert this dataframe to an interactive table.\"\n",
              "            style=\"display:none;\">\n",
              "\n",
              "  <svg xmlns=\"http://www.w3.org/2000/svg\" height=\"24px\" viewBox=\"0 -960 960 960\">\n",
              "    <path d=\"M120-120v-720h720v720H120Zm60-500h600v-160H180v160Zm220 220h160v-160H400v160Zm0 220h160v-160H400v160ZM180-400h160v-160H180v160Zm440 0h160v-160H620v160ZM180-180h160v-160H180v160Zm440 0h160v-160H620v160Z\"/>\n",
              "  </svg>\n",
              "    </button>\n",
              "\n",
              "  <style>\n",
              "    .colab-df-container {\n",
              "      display:flex;\n",
              "      gap: 12px;\n",
              "    }\n",
              "\n",
              "    .colab-df-convert {\n",
              "      background-color: #E8F0FE;\n",
              "      border: none;\n",
              "      border-radius: 50%;\n",
              "      cursor: pointer;\n",
              "      display: none;\n",
              "      fill: #1967D2;\n",
              "      height: 32px;\n",
              "      padding: 0 0 0 0;\n",
              "      width: 32px;\n",
              "    }\n",
              "\n",
              "    .colab-df-convert:hover {\n",
              "      background-color: #E2EBFA;\n",
              "      box-shadow: 0px 1px 2px rgba(60, 64, 67, 0.3), 0px 1px 3px 1px rgba(60, 64, 67, 0.15);\n",
              "      fill: #174EA6;\n",
              "    }\n",
              "\n",
              "    .colab-df-buttons div {\n",
              "      margin-bottom: 4px;\n",
              "    }\n",
              "\n",
              "    [theme=dark] .colab-df-convert {\n",
              "      background-color: #3B4455;\n",
              "      fill: #D2E3FC;\n",
              "    }\n",
              "\n",
              "    [theme=dark] .colab-df-convert:hover {\n",
              "      background-color: #434B5C;\n",
              "      box-shadow: 0px 1px 3px 1px rgba(0, 0, 0, 0.15);\n",
              "      filter: drop-shadow(0px 1px 2px rgba(0, 0, 0, 0.3));\n",
              "      fill: #FFFFFF;\n",
              "    }\n",
              "  </style>\n",
              "\n",
              "    <script>\n",
              "      const buttonEl =\n",
              "        document.querySelector('#df-b08eb85b-af1e-486b-88a5-f20100787f09 button.colab-df-convert');\n",
              "      buttonEl.style.display =\n",
              "        google.colab.kernel.accessAllowed ? 'block' : 'none';\n",
              "\n",
              "      async function convertToInteractive(key) {\n",
              "        const element = document.querySelector('#df-b08eb85b-af1e-486b-88a5-f20100787f09');\n",
              "        const dataTable =\n",
              "          await google.colab.kernel.invokeFunction('convertToInteractive',\n",
              "                                                    [key], {});\n",
              "        if (!dataTable) return;\n",
              "\n",
              "        const docLinkHtml = 'Like what you see? Visit the ' +\n",
              "          '<a target=\"_blank\" href=https://colab.research.google.com/notebooks/data_table.ipynb>data table notebook</a>'\n",
              "          + ' to learn more about interactive tables.';\n",
              "        element.innerHTML = '';\n",
              "        dataTable['output_type'] = 'display_data';\n",
              "        await google.colab.output.renderOutput(dataTable, element);\n",
              "        const docLink = document.createElement('div');\n",
              "        docLink.innerHTML = docLinkHtml;\n",
              "        element.appendChild(docLink);\n",
              "      }\n",
              "    </script>\n",
              "  </div>\n",
              "\n",
              "\n",
              "<div id=\"df-065add43-86d6-4b48-81b5-b05e2ea5e1df\">\n",
              "  <button class=\"colab-df-quickchart\" onclick=\"quickchart('df-065add43-86d6-4b48-81b5-b05e2ea5e1df')\"\n",
              "            title=\"Suggest charts\"\n",
              "            style=\"display:none;\">\n",
              "\n",
              "<svg xmlns=\"http://www.w3.org/2000/svg\" height=\"24px\"viewBox=\"0 0 24 24\"\n",
              "     width=\"24px\">\n",
              "    <g>\n",
              "        <path d=\"M19 3H5c-1.1 0-2 .9-2 2v14c0 1.1.9 2 2 2h14c1.1 0 2-.9 2-2V5c0-1.1-.9-2-2-2zM9 17H7v-7h2v7zm4 0h-2V7h2v10zm4 0h-2v-4h2v4z\"/>\n",
              "    </g>\n",
              "</svg>\n",
              "  </button>\n",
              "\n",
              "<style>\n",
              "  .colab-df-quickchart {\n",
              "      --bg-color: #E8F0FE;\n",
              "      --fill-color: #1967D2;\n",
              "      --hover-bg-color: #E2EBFA;\n",
              "      --hover-fill-color: #174EA6;\n",
              "      --disabled-fill-color: #AAA;\n",
              "      --disabled-bg-color: #DDD;\n",
              "  }\n",
              "\n",
              "  [theme=dark] .colab-df-quickchart {\n",
              "      --bg-color: #3B4455;\n",
              "      --fill-color: #D2E3FC;\n",
              "      --hover-bg-color: #434B5C;\n",
              "      --hover-fill-color: #FFFFFF;\n",
              "      --disabled-bg-color: #3B4455;\n",
              "      --disabled-fill-color: #666;\n",
              "  }\n",
              "\n",
              "  .colab-df-quickchart {\n",
              "    background-color: var(--bg-color);\n",
              "    border: none;\n",
              "    border-radius: 50%;\n",
              "    cursor: pointer;\n",
              "    display: none;\n",
              "    fill: var(--fill-color);\n",
              "    height: 32px;\n",
              "    padding: 0;\n",
              "    width: 32px;\n",
              "  }\n",
              "\n",
              "  .colab-df-quickchart:hover {\n",
              "    background-color: var(--hover-bg-color);\n",
              "    box-shadow: 0 1px 2px rgba(60, 64, 67, 0.3), 0 1px 3px 1px rgba(60, 64, 67, 0.15);\n",
              "    fill: var(--button-hover-fill-color);\n",
              "  }\n",
              "\n",
              "  .colab-df-quickchart-complete:disabled,\n",
              "  .colab-df-quickchart-complete:disabled:hover {\n",
              "    background-color: var(--disabled-bg-color);\n",
              "    fill: var(--disabled-fill-color);\n",
              "    box-shadow: none;\n",
              "  }\n",
              "\n",
              "  .colab-df-spinner {\n",
              "    border: 2px solid var(--fill-color);\n",
              "    border-color: transparent;\n",
              "    border-bottom-color: var(--fill-color);\n",
              "    animation:\n",
              "      spin 1s steps(1) infinite;\n",
              "  }\n",
              "\n",
              "  @keyframes spin {\n",
              "    0% {\n",
              "      border-color: transparent;\n",
              "      border-bottom-color: var(--fill-color);\n",
              "      border-left-color: var(--fill-color);\n",
              "    }\n",
              "    20% {\n",
              "      border-color: transparent;\n",
              "      border-left-color: var(--fill-color);\n",
              "      border-top-color: var(--fill-color);\n",
              "    }\n",
              "    30% {\n",
              "      border-color: transparent;\n",
              "      border-left-color: var(--fill-color);\n",
              "      border-top-color: var(--fill-color);\n",
              "      border-right-color: var(--fill-color);\n",
              "    }\n",
              "    40% {\n",
              "      border-color: transparent;\n",
              "      border-right-color: var(--fill-color);\n",
              "      border-top-color: var(--fill-color);\n",
              "    }\n",
              "    60% {\n",
              "      border-color: transparent;\n",
              "      border-right-color: var(--fill-color);\n",
              "    }\n",
              "    80% {\n",
              "      border-color: transparent;\n",
              "      border-right-color: var(--fill-color);\n",
              "      border-bottom-color: var(--fill-color);\n",
              "    }\n",
              "    90% {\n",
              "      border-color: transparent;\n",
              "      border-bottom-color: var(--fill-color);\n",
              "    }\n",
              "  }\n",
              "</style>\n",
              "\n",
              "  <script>\n",
              "    async function quickchart(key) {\n",
              "      const quickchartButtonEl =\n",
              "        document.querySelector('#' + key + ' button');\n",
              "      quickchartButtonEl.disabled = true;  // To prevent multiple clicks.\n",
              "      quickchartButtonEl.classList.add('colab-df-spinner');\n",
              "      try {\n",
              "        const charts = await google.colab.kernel.invokeFunction(\n",
              "            'suggestCharts', [key], {});\n",
              "      } catch (error) {\n",
              "        console.error('Error during call to suggestCharts:', error);\n",
              "      }\n",
              "      quickchartButtonEl.classList.remove('colab-df-spinner');\n",
              "      quickchartButtonEl.classList.add('colab-df-quickchart-complete');\n",
              "    }\n",
              "    (() => {\n",
              "      let quickchartButtonEl =\n",
              "        document.querySelector('#df-065add43-86d6-4b48-81b5-b05e2ea5e1df button');\n",
              "      quickchartButtonEl.style.display =\n",
              "        google.colab.kernel.accessAllowed ? 'block' : 'none';\n",
              "    })();\n",
              "  </script>\n",
              "</div>\n",
              "\n",
              "  <div id=\"id_6c23cac4-6fd2-408b-b130-8d7f0f47dd45\">\n",
              "    <style>\n",
              "      .colab-df-generate {\n",
              "        background-color: #E8F0FE;\n",
              "        border: none;\n",
              "        border-radius: 50%;\n",
              "        cursor: pointer;\n",
              "        display: none;\n",
              "        fill: #1967D2;\n",
              "        height: 32px;\n",
              "        padding: 0 0 0 0;\n",
              "        width: 32px;\n",
              "      }\n",
              "\n",
              "      .colab-df-generate:hover {\n",
              "        background-color: #E2EBFA;\n",
              "        box-shadow: 0px 1px 2px rgba(60, 64, 67, 0.3), 0px 1px 3px 1px rgba(60, 64, 67, 0.15);\n",
              "        fill: #174EA6;\n",
              "      }\n",
              "\n",
              "      [theme=dark] .colab-df-generate {\n",
              "        background-color: #3B4455;\n",
              "        fill: #D2E3FC;\n",
              "      }\n",
              "\n",
              "      [theme=dark] .colab-df-generate:hover {\n",
              "        background-color: #434B5C;\n",
              "        box-shadow: 0px 1px 3px 1px rgba(0, 0, 0, 0.15);\n",
              "        filter: drop-shadow(0px 1px 2px rgba(0, 0, 0, 0.3));\n",
              "        fill: #FFFFFF;\n",
              "      }\n",
              "    </style>\n",
              "    <button class=\"colab-df-generate\" onclick=\"generateWithVariable('merged_data')\"\n",
              "            title=\"Generate code using this dataframe.\"\n",
              "            style=\"display:none;\">\n",
              "\n",
              "  <svg xmlns=\"http://www.w3.org/2000/svg\" height=\"24px\"viewBox=\"0 0 24 24\"\n",
              "       width=\"24px\">\n",
              "    <path d=\"M7,19H8.4L18.45,9,17,7.55,7,17.6ZM5,21V16.75L18.45,3.32a2,2,0,0,1,2.83,0l1.4,1.43a1.91,1.91,0,0,1,.58,1.4,1.91,1.91,0,0,1-.58,1.4L9.25,21ZM18.45,9,17,7.55Zm-12,3A5.31,5.31,0,0,0,4.9,8.1,5.31,5.31,0,0,0,1,6.5,5.31,5.31,0,0,0,4.9,4.9,5.31,5.31,0,0,0,6.5,1,5.31,5.31,0,0,0,8.1,4.9,5.31,5.31,0,0,0,12,6.5,5.46,5.46,0,0,0,6.5,12Z\"/>\n",
              "  </svg>\n",
              "    </button>\n",
              "    <script>\n",
              "      (() => {\n",
              "      const buttonEl =\n",
              "        document.querySelector('#id_6c23cac4-6fd2-408b-b130-8d7f0f47dd45 button.colab-df-generate');\n",
              "      buttonEl.style.display =\n",
              "        google.colab.kernel.accessAllowed ? 'block' : 'none';\n",
              "\n",
              "      buttonEl.onclick = () => {\n",
              "        google.colab.notebook.generateWithVariable('merged_data');\n",
              "      }\n",
              "      })();\n",
              "    </script>\n",
              "  </div>\n",
              "\n",
              "    </div>\n",
              "  </div>\n"
            ],
            "application/vnd.google.colaboratory.intrinsic+json": {
              "type": "dataframe",
              "variable_name": "merged_data",
              "summary": "{\n  \"name\": \"merged_data\",\n  \"rows\": 100,\n  \"fields\": [\n    {\n      \"column\": \"Open\",\n      \"properties\": {\n        \"dtype\": \"number\",\n        \"std\": 2.3664607366714487,\n        \"min\": 43.86000061035156,\n        \"max\": 54.10499954223633,\n        \"num_unique_values\": 97,\n        \"samples\": [\n          48.48749923706055,\n          49.35499954223633,\n          54.10499954223633\n        ],\n        \"semantic_type\": \"\",\n        \"description\": \"\"\n      }\n    },\n    {\n      \"column\": \"High\",\n      \"properties\": {\n        \"dtype\": \"number\",\n        \"std\": 2.362699560928195,\n        \"min\": 44.47999954223633,\n        \"max\": 55.342498779296875,\n        \"num_unique_values\": 100,\n        \"samples\": [\n          51.0,\n          44.807498931884766,\n          50.040000915527344\n        ],\n        \"semantic_type\": \"\",\n        \"description\": \"\"\n      }\n    },\n    {\n      \"column\": \"Low\",\n      \"properties\": {\n        \"dtype\": \"number\",\n        \"std\": 2.388660751731409,\n        \"min\": 42.567501068115234,\n        \"max\": 52.82500076293945,\n        \"num_unique_values\": 98,\n        \"samples\": [\n          48.34749984741211,\n          48.192501068115234,\n          52.82500076293945\n        ],\n        \"semantic_type\": \"\",\n        \"description\": \"\"\n      }\n    },\n    {\n      \"column\": \"Close\",\n      \"properties\": {\n        \"dtype\": \"number\",\n        \"std\": 2.3382704583717637,\n        \"min\": 43.32500076293945,\n        \"max\": 53.2599983215332,\n        \"num_unique_values\": 100,\n        \"samples\": [\n          50.82500076293945,\n          44.57500076293945,\n          49.64500045776367\n        ],\n        \"semantic_type\": \"\",\n        \"description\": \"\"\n      }\n    },\n    {\n      \"column\": \"Adj Close\",\n      \"properties\": {\n        \"dtype\": \"number\",\n        \"std\": 2.2453175129748373,\n        \"min\": 41.81283950805664,\n        \"max\": 51.40106964111328,\n        \"num_unique_values\": 100,\n        \"samples\": [\n          49.05106735229492,\n          43.01920700073242,\n          47.91224670410156\n        ],\n        \"semantic_type\": \"\",\n        \"description\": \"\"\n      }\n    },\n    {\n      \"column\": \"Volume\",\n      \"properties\": {\n        \"dtype\": \"number\",\n        \"std\": 45014193,\n        \"min\": 45448000,\n        \"max\": 277125600,\n        \"num_unique_values\": 99,\n        \"samples\": [\n          86698400,\n          164834800,\n          277125600\n        ],\n        \"semantic_type\": \"\",\n        \"description\": \"\"\n      }\n    },\n    {\n      \"column\": \"SMA_20\",\n      \"properties\": {\n        \"dtype\": \"number\",\n        \"std\": 2.1337574547448135,\n        \"min\": 43.70399990081787,\n        \"max\": 51.43125,\n        \"num_unique_values\": 100,\n        \"samples\": [\n          49.94075031280518,\n          47.780374908447264,\n          47.19162502288818\n        ],\n        \"semantic_type\": \"\",\n        \"description\": \"\"\n      }\n    },\n    {\n      \"column\": \"SMA_50\",\n      \"properties\": {\n        \"dtype\": \"number\",\n        \"std\": 2.2457702869277902,\n        \"min\": 41.359249877929685,\n        \"max\": 49.339400100708005,\n        \"num_unique_values\": 100,\n        \"samples\": [\n          48.396700057983395,\n          48.80380004882812,\n          48.56369995117188\n        ],\n        \"semantic_type\": \"\",\n        \"description\": \"\"\n      }\n    },\n    {\n      \"column\": \"neg\",\n      \"properties\": {\n        \"dtype\": \"number\",\n        \"std\": 0.11370841453187858,\n        \"min\": 0.0,\n        \"max\": 0.459,\n        \"num_unique_values\": 26,\n        \"samples\": [\n          0.216,\n          0.184,\n          0.0\n        ],\n        \"semantic_type\": \"\",\n        \"description\": \"\"\n      }\n    },\n    {\n      \"column\": \"neu\",\n      \"properties\": {\n        \"dtype\": \"number\",\n        \"std\": 0.1688420803022993,\n        \"min\": 0.294,\n        \"max\": 1.0,\n        \"num_unique_values\": 47,\n        \"samples\": [\n          0.614,\n          0.556,\n          0.826\n        ],\n        \"semantic_type\": \"\",\n        \"description\": \"\"\n      }\n    },\n    {\n      \"column\": \"pos\",\n      \"properties\": {\n        \"dtype\": \"number\",\n        \"std\": 0.15758739726823898,\n        \"min\": 0.0,\n        \"max\": 0.615,\n        \"num_unique_values\": 39,\n        \"samples\": [\n          0.206,\n          0.306,\n          0.255\n        ],\n        \"semantic_type\": \"\",\n        \"description\": \"\"\n      }\n    },\n    {\n      \"column\": \"compound\",\n      \"properties\": {\n        \"dtype\": \"number\",\n        \"std\": 0.2932247947592702,\n        \"min\": -0.5574,\n        \"max\": 0.765,\n        \"num_unique_values\": 38,\n        \"samples\": [\n          0.25,\n          0.2263,\n          0.34\n        ],\n        \"semantic_type\": \"\",\n        \"description\": \"\"\n      }\n    }\n  ]\n}"
            }
          },
          "metadata": {},
          "execution_count": 127
        }
      ],
      "source": [
        "apple_stock = add_technical_indicators(apple_stock)\n",
        "merged_data = merge_sentiment_with_stock_data(apple_stock, sentiment_scores)\n",
        "merged_data"
      ]
    },
    {
      "cell_type": "markdown",
      "metadata": {
        "id": "mEtOCgVvXcN7"
      },
      "source": [
        "Now lets use Machine Learning"
      ]
    },
    {
      "cell_type": "code",
      "execution_count": 128,
      "metadata": {
        "id": "F8k91-rTXeCi"
      },
      "outputs": [],
      "source": [
        "from sklearn.model_selection import train_test_split\n",
        "from sklearn.ensemble import RandomForestRegressor\n",
        "from sklearn.metrics import mean_squared_error\n"
      ]
    },
    {
      "cell_type": "code",
      "execution_count": 129,
      "metadata": {
        "id": "I4aIpKPVXv5d"
      },
      "outputs": [],
      "source": [
        "# Preparing the data\n",
        "features = ['SMA_20', 'SMA_50', 'compound', 'neg', 'neu', 'pos']\n",
        "X = merged_data[features].dropna()\n",
        "y = merged_data.loc[X.index, 'Close']"
      ]
    },
    {
      "cell_type": "code",
      "execution_count": 61,
      "metadata": {
        "colab": {
          "base_uri": "https://localhost:8080/"
        },
        "id": "e2vpFcowYZ22",
        "outputId": "f119ecd0-a66a-4f3d-f8b3-71455d3c63b6"
      },
      "outputs": [
        {
          "output_type": "stream",
          "name": "stdout",
          "text": [
            "        Open       High        Low      Close  Adj Close     Volume  \\\n",
            "0  44.950001  45.134998  44.452499  44.915001  43.347343  146118800   \n",
            "1  45.049999  45.535000  44.654999  44.742500  43.180862   94858800   \n",
            "2  44.730000  45.147499  44.477501  44.557499  43.002319  111792800   \n",
            "3  44.105000  44.837502  44.000000  44.345001  42.797230  113924800   \n",
            "4  44.487499  44.807499  44.167500  44.575001  43.019207   84873600   \n",
            "\n",
            "      SMA_20    SMA_50  Signal  Strategy  Cumulative Strategy Returns  \\\n",
            "0  49.120625  48.96140      -1 -0.019070                    -0.041749   \n",
            "1  48.804000  48.93760       1  0.001841                    -0.039985   \n",
            "2  48.474250  48.89815       0 -0.005135                    -0.044915   \n",
            "3  48.183125  48.84495      -1 -0.001000                    -0.045870   \n",
            "4  47.780375  48.80380       1 -0.007187                    -0.052727   \n",
            "\n",
            "   Cumulative Market Returns    neg    neu    pos  compound  \n",
            "0                  -0.022152  0.000  1.000  0.000    0.0000  \n",
            "1                  -0.025908  0.000  1.000  0.000    0.0000  \n",
            "2                  -0.029935  0.000  0.860  0.140    0.0772  \n",
            "3                  -0.034562  0.133  0.667  0.200    0.1531  \n",
            "4                  -0.029554  0.000  0.737  0.263    0.3612  \n",
            "<class 'pandas.core.frame.DataFrame'>\n",
            "Index: 51 entries, 0 to 50\n",
            "Data columns (total 16 columns):\n",
            " #   Column                       Non-Null Count  Dtype  \n",
            "---  ------                       --------------  -----  \n",
            " 0   Open                         51 non-null     float64\n",
            " 1   High                         51 non-null     float64\n",
            " 2   Low                          51 non-null     float64\n",
            " 3   Close                        51 non-null     float64\n",
            " 4   Adj Close                    51 non-null     float64\n",
            " 5   Volume                       51 non-null     int64  \n",
            " 6   SMA_20                       51 non-null     float64\n",
            " 7   SMA_50                       51 non-null     float64\n",
            " 8   Signal                       51 non-null     int64  \n",
            " 9   Strategy                     51 non-null     float64\n",
            " 10  Cumulative Strategy Returns  51 non-null     float64\n",
            " 11  Cumulative Market Returns    51 non-null     float64\n",
            " 12  neg                          51 non-null     float64\n",
            " 13  neu                          51 non-null     float64\n",
            " 14  pos                          51 non-null     float64\n",
            " 15  compound                     51 non-null     float64\n",
            "dtypes: float64(14), int64(2)\n",
            "memory usage: 8.8 KB\n",
            "None\n"
          ]
        }
      ],
      "source": [
        "print(merged_data.head())\n",
        "print(merged_data.info())"
      ]
    },
    {
      "cell_type": "code",
      "execution_count": 130,
      "metadata": {
        "colab": {
          "base_uri": "https://localhost:8080/"
        },
        "id": "ztCOtkX7qFBC",
        "outputId": "7c18a201-4eff-4f22-cd64-3ca9e60dbbd0"
      },
      "outputs": [
        {
          "output_type": "stream",
          "name": "stdout",
          "text": [
            "Mean Squared Error: 0.45811693534675835\n"
          ]
        }
      ],
      "source": [
        "X_train, X_test, y_train, y_test = train_test_split(X, y, test_size=0.2, random_state=42)\n",
        "\n",
        "# Training the model\n",
        "model = RandomForestRegressor(n_estimators=100, random_state=42)\n",
        "model.fit(X_train, y_train)\n",
        "\n",
        "# Evaluating the model\n",
        "predictions = model.predict(X_test)\n",
        "mse = mean_squared_error(y_test, predictions)\n",
        "print(f'Mean Squared Error: {mse}')\n"
      ]
    },
    {
      "cell_type": "markdown",
      "metadata": {
        "id": "mR7Fqbu93jNE"
      },
      "source": [
        "Pairs Trading Strategy"
      ]
    },
    {
      "cell_type": "code",
      "execution_count": 131,
      "metadata": {
        "id": "mOvHUrGA3i4B"
      },
      "outputs": [],
      "source": [
        "import numpy as np\n",
        "from statsmodels.tsa.stattools import coint\n",
        "\n",
        "def find_cointegrated_pairs_rolling(data, window=252, threshold=0.05):\n",
        "    n = data.shape[1]\n",
        "    score_matrix = np.zeros((n, n))\n",
        "    pvalue_matrix = np.ones((n, n))\n",
        "    pairs = []\n",
        "\n",
        "    for start in range(len(data) - window):\n",
        "        end = start + window\n",
        "        rolling_data = data[start:end]\n",
        "        for i in range(n):\n",
        "            for j in range(i + 1, n):\n",
        "                stock1 = rolling_data.iloc[:, i]\n",
        "                stock2 = rolling_data.iloc[:, j]\n",
        "                score, pvalue, _ = coint(stock1, stock2)\n",
        "                score_matrix[i, j] = score\n",
        "                pvalue_matrix[i, j] = pvalue\n",
        "                if pvalue < threshold and not np.isclose(np.corrcoef(stock1, stock2)[0, 1], 1):\n",
        "                    pairs.append((rolling_data.columns[i], rolling_data.columns[j], start, end))\n",
        "    return score_matrix, pvalue_matrix, pairs"
      ]
    },
    {
      "cell_type": "code",
      "execution_count": 132,
      "metadata": {
        "colab": {
          "base_uri": "https://localhost:8080/"
        },
        "id": "orwblba63tK9",
        "outputId": "8e56dfc9-7bb5-4afc-c1c1-2836fbe09c45"
      },
      "outputs": [
        {
          "output_type": "stream",
          "name": "stderr",
          "text": [
            "\r[*********************100%%**********************]  1 of 1 completed"
          ]
        },
        {
          "output_type": "stream",
          "name": "stdout",
          "text": [
            "Cointegrated pairs: [('AAPL', 'MSFT')]\n"
          ]
        },
        {
          "output_type": "stream",
          "name": "stderr",
          "text": [
            "\n",
            "<ipython-input-63-dbd901a42a67>:13: CollinearityWarning: y0 and y1 are (almost) perfectly colinear.Cointegration test is not reliable in this case.\n",
            "  score, pvalue, _ = coint(stock1, stock2)\n"
          ]
        }
      ],
      "source": [
        "sample_data = pd.DataFrame({\n",
        "    'AAPL': apple_stock['Close'],\n",
        "    'MSFT': get_stock_data('MSFT', start_date, end_date)['Close']\n",
        "})\n",
        "score_matrix, pvalue_matrix, pairs = find_cointegrated_pairs(sample_data)\n",
        "print(f'Cointegrated pairs: {pairs}')"
      ]
    },
    {
      "cell_type": "code",
      "source": [
        "def generate_trading_signals(stock_data, sentiment_scores):\n",
        "    if len(sentiment_scores) > len(stock_data):\n",
        "        sentiment_scores = sentiment_scores[:len(stock_data)]\n",
        "    elif len(sentiment_scores) < len(stock_data):\n",
        "        raise ValueError(\"Not enough sentiment scores to match stock data length.\")\n",
        "\n",
        "    signals = []\n",
        "    for i in range(len(stock_data)):\n",
        "        if sentiment_scores[i]['compound'] > 0.2:\n",
        "            signals.append(1)  # Buy signal\n",
        "        elif sentiment_scores[i]['compound'] < -0.2:\n",
        "            signals.append(-1)  # Sell signal\n",
        "        else:\n",
        "            signals.append(0)  # Hold signal\n",
        "    return signals\n",
        "\n",
        "if len(sentiment_scores) < len(apple_stock):\n",
        "    apple_stock = apple_stock.iloc[:len(sentiment_scores)]\n"
      ],
      "metadata": {
        "id": "XBOl6KutAk1w"
      },
      "execution_count": 133,
      "outputs": []
    },
    {
      "cell_type": "code",
      "source": [
        "trading_signals = generate_trading_signals(apple_stock, sentiment_scores)\n",
        "apple_stock['Signal'] = trading_signals\n",
        "print(apple_stock.head())"
      ],
      "metadata": {
        "colab": {
          "base_uri": "https://localhost:8080/"
        },
        "id": "Slk2rn93Esms",
        "outputId": "2e2b4e76-6d0d-4ae0-dd2c-1d52ba160915"
      },
      "execution_count": 134,
      "outputs": [
        {
          "output_type": "stream",
          "name": "stdout",
          "text": [
            "                 Open       High        Low      Close  Adj Close     Volume  \\\n",
            "Date                                                                           \n",
            "2019-03-14  45.974998  46.025002  45.639999  45.932499  44.159264   94318000   \n",
            "2019-03-15  46.212502  46.832500  45.935001  46.529999  44.733704  156171600   \n",
            "2019-03-18  46.450001  47.097500  46.447498  47.005001  45.190365  104879200   \n",
            "2019-03-19  47.087502  47.247501  46.480000  46.632500  44.832241  126585600   \n",
            "2019-03-20  46.557499  47.372501  46.182499  47.040001  45.224022  124140800   \n",
            "\n",
            "               SMA_20    SMA_50  Signal  \n",
            "Date                                     \n",
            "2019-03-14  43.704000  41.35925       0  \n",
            "2019-03-15  43.895500  41.50025       0  \n",
            "2019-03-18  44.115500  41.72940       0  \n",
            "2019-03-19  44.310500  41.92075       0  \n",
            "2019-03-20  44.512125  42.12190       1  \n"
          ]
        }
      ]
    },
    {
      "cell_type": "code",
      "source": [
        "import matplotlib.pyplot as plt\n",
        "\n",
        "def backtest_strategy(stock_data, trading_signals, transaction_cost=0.001, stop_loss=0.02, take_profit=0.05):\n",
        "    stock_data['Strategy'] = stock_data['Signal'].shift(1) * stock_data['Close'].pct_change()\n",
        "    stock_data['Strategy'] -= transaction_cost * abs(stock_data['Signal'].diff())\n",
        "\n",
        "    # Implement stop-loss and take-profit\n",
        "    stock_data['Strategy'] = np.where(stock_data['Strategy'] < -stop_loss, -stop_loss, stock_data['Strategy'])\n",
        "    stock_data['Strategy'] = np.where(stock_data['Strategy'] > take_profit, take_profit, stock_data['Strategy'])\n",
        "\n",
        "    stock_data['Cumulative Strategy Returns'] = (1 + stock_data['Strategy']).cumprod() - 1\n",
        "    stock_data['Cumulative Market Returns'] = (1 + stock_data['Close'].pct_change()).cumprod() - 1\n",
        "\n",
        "    plt.figure(figsize=(14, 7))\n",
        "    plt.plot(stock_data['Cumulative Strategy Returns'], label='Strategy Returns')\n",
        "    plt.plot(stock_data['Cumulative Market Returns'], label='Market Returns')\n",
        "    plt.legend()\n",
        "    plt.show()\n"
      ],
      "metadata": {
        "id": "YkykGwFoExSJ"
      },
      "execution_count": 135,
      "outputs": []
    },
    {
      "cell_type": "code",
      "source": [
        "backtest_strategy(apple_stock, trading_signals)"
      ],
      "metadata": {
        "colab": {
          "base_uri": "https://localhost:8080/",
          "height": 599
        },
        "id": "W6-mR71KE3Po",
        "outputId": "d4460991-f64f-43bd-dc86-20eae8b1fa4f"
      },
      "execution_count": 136,
      "outputs": [
        {
          "output_type": "display_data",
          "data": {
            "text/plain": [
              "<Figure size 1400x700 with 1 Axes>"
            ],
            "image/png": "[encoded data removed]"
          },
          "metadata": {}
        }
      ]
    }
  ],
  "metadata": {
    "colab": {
      "provenance": []
    },
    "kernelspec": {
      "display_name": "Python 3",
      "name": "python3"
    },
    "language_info": {
      "name": "python"
    }
  },
  "nbformat": 4,
  "nbformat_minor": 0
}